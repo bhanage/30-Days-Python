{
 "cells": [
  {
   "cell_type": "code",
   "execution_count": 5,
   "metadata": {},
   "outputs": [],
   "source": [
    "import numpy as np"
   ]
  },
  {
   "cell_type": "code",
   "execution_count": 7,
   "metadata": {},
   "outputs": [
    {
     "data": {
      "text/plain": [
       "array([[0, 1, 2],\n",
       "       [3, 4, 5],\n",
       "       [6, 7, 8]])"
      ]
     },
     "execution_count": 7,
     "metadata": {},
     "output_type": "execute_result"
    }
   ],
   "source": [
    "mat = np.arange(9).reshape(3,3)\n",
    "mat"
   ]
  },
  {
   "cell_type": "code",
   "execution_count": 8,
   "metadata": {},
   "outputs": [
    {
     "data": {
      "text/plain": [
       "array([ 9, 12, 15])"
      ]
     },
     "execution_count": 8,
     "metadata": {},
     "output_type": "execute_result"
    }
   ],
   "source": [
    "mat.sum(axis=0)"
   ]
  },
  {
   "cell_type": "code",
   "execution_count": 9,
   "metadata": {},
   "outputs": [
    {
     "data": {
      "text/plain": [
       "array([ 3, 12, 21])"
      ]
     },
     "execution_count": 9,
     "metadata": {},
     "output_type": "execute_result"
    }
   ],
   "source": [
    "mat.sum(axis=1)"
   ]
  },
  {
   "cell_type": "code",
   "execution_count": 10,
   "metadata": {},
   "outputs": [
    {
     "data": {
      "text/plain": [
       "array([-2.68245892, -1.02816635, -1.00459716, -0.44416426, -0.02078358,\n",
       "        0.10348391,  0.23603471,  0.28785092,  0.92046307,  1.67766655])"
      ]
     },
     "execution_count": 10,
     "metadata": {},
     "output_type": "execute_result"
    }
   ],
   "source": [
    "np.sort(np.random.randn(10))"
   ]
  },
  {
   "cell_type": "code",
   "execution_count": 11,
   "metadata": {},
   "outputs": [
    {
     "data": {
      "text/plain": [
       "array([0.        , 0.01578947, 0.03157895, 0.04736842, 0.06315789,\n",
       "       0.07894737, 0.09473684, 0.11052632, 0.12631579, 0.14210526,\n",
       "       0.15789474, 0.17368421, 0.18947368, 0.20526316, 0.22105263,\n",
       "       0.23684211, 0.25263158, 0.26842105, 0.28421053, 0.3       ])"
      ]
     },
     "execution_count": 11,
     "metadata": {},
     "output_type": "execute_result"
    }
   ],
   "source": [
    "np.linspace(0,0.3,num=20)"
   ]
  },
  {
   "cell_type": "code",
   "execution_count": 12,
   "metadata": {},
   "outputs": [
    {
     "data": {
      "text/plain": [
       "array([2, 3, 2, 3, 2, 3])"
      ]
     },
     "execution_count": 12,
     "metadata": {},
     "output_type": "execute_result"
    }
   ],
   "source": [
    "temp = np.array([1,2,3,1,2,3,1,2,3]).reshape(3,3)\n",
    "b_filt = temp>=2\n",
    "temp[b_filt]"
   ]
  },
  {
   "cell_type": "code",
   "execution_count": 15,
   "metadata": {},
   "outputs": [
    {
     "name": "stdout",
     "output_type": "stream",
     "text": [
      "c:\\Users\\sanik\\OneDrive\\Desktop\\cdac\n"
     ]
    }
   ],
   "source": [
    "import os\n",
    "print(os.getcwd())"
   ]
  },
  {
   "cell_type": "code",
   "execution_count": 14,
   "metadata": {},
   "outputs": [],
   "source": [
    "os.chdir(\"../\")"
   ]
  },
  {
   "cell_type": "code",
   "execution_count": 17,
   "metadata": {},
   "outputs": [
    {
     "name": "stdout",
     "output_type": "stream",
     "text": [
      "C:\\Users\\sanik\\OneDrive\\Desktop\\cdac\\Computer Networks\n"
     ]
    }
   ],
   "source": [
    "__file__ = \"Computer Networks\"\n",
    "print(os.path.realpath(__file__))"
   ]
  },
  {
   "cell_type": "code",
   "execution_count": 22,
   "metadata": {},
   "outputs": [
    {
     "name": "stdout",
     "output_type": "stream",
     "text": [
      "C:\\Users\\sanik\\OneDrive\\Desktop\\cdac\n"
     ]
    }
   ],
   "source": [
    "\n",
    "print(os.path.dirname(os.path.realpath(__file__)))"
   ]
  },
  {
   "cell_type": "code",
   "execution_count": 23,
   "metadata": {},
   "outputs": [
    {
     "name": "stdout",
     "output_type": "stream",
     "text": [
      "Creating a directory at  C:\\Users\\sanik\\OneDrive\\Desktop\\cdac\\DIR_created_from_code\n"
     ]
    }
   ],
   "source": [
    "path =  os.path.join(os.path.dirname(os.path.realpath(__file__)), 'DIR_created_from_code')\n",
    "print(\"Creating a directory at \" , path)\n",
    "os.mkdir(path) "
   ]
  },
  {
   "cell_type": "code",
   "execution_count": 24,
   "metadata": {},
   "outputs": [
    {
     "name": "stdout",
     "output_type": "stream",
     "text": [
      "Creating a directory at  C:\\Users\\sanik\\OneDrive\\Desktop\\cdac\\DIR_created_from_code\\level1\\level2\n"
     ]
    }
   ],
   "source": [
    "path =  os.path.join(os.path.dirname(os.path.realpath(__file__)), 'DIR_created_from_code\\level1\\level2')\n",
    "print(\"Creating a directory at \" , path)"
   ]
  },
  {
   "cell_type": "code",
   "execution_count": 25,
   "metadata": {},
   "outputs": [
    {
     "name": "stdout",
     "output_type": "stream",
     "text": [
      "Files and directories in ' None ' : ['.3T', '.android', '.bash_history', '.cache', '.config', '.dbshell', '.dlv', '.eclipse', '.gitconfig', '.ipython', '.lesshst', '.mongorc.js', '.p2', '.packettracer', '.ssh', '.vscode', '.vscode-cli', '.vuerc', 'algs4', 'AppData', 'Application Data', 'Cisco Packet Tracer 8.2.1', 'Contacts', 'Cookies', 'day2', 'db', 'db.json', 'demo', 'Documents', 'Downloads', 'eclipse-workspace', 'Favorites', 'IntelGraphicsProfiles', 'Links', 'Local Settings', 'menu-card', 'Music', 'My Documents', 'NetHood', 'NTUSER.DAT', 'ntuser.dat.LOG1', 'ntuser.dat.LOG2', 'NTUSER.DAT{bbe4e322-b6cd-11ed-8b22-aa7ec08a8c9f}.TM.blf', 'NTUSER.DAT{bbe4e322-b6cd-11ed-8b22-aa7ec08a8c9f}.TMContainer00000000000000000001.regtrans-ms', 'NTUSER.DAT{bbe4e322-b6cd-11ed-8b22-aa7ec08a8c9f}.TMContainer00000000000000000002.regtrans-ms', 'ntuser.ini', 'OneDrive', 'package-lock.json', 'package.json', 'PrintHood', 'Recent', 'rest-app', 'rest-app.zip', 'router-app', 'Saved Games', 'Searches', 'SendTo', 'simplevuexlsx', 'simplevuexlsx.zip', 'Start Menu', 'Templates', 'This PC - Shortcut.lnk', 'Tutorials', 'Videos', 'vue-project', 'vue-wheather']\n"
     ]
    }
   ],
   "source": [
    "os.makedirs(path) \n",
    "\n",
    "path = os.chdir('../../../')\n",
    "dir_list = os.listdir(path)\n",
    "print(\"Files and directories in '\", path, \"' :\" , dir_list) "
   ]
  }
 ],
 "metadata": {
  "kernelspec": {
   "display_name": "Python 3",
   "language": "python",
   "name": "python3"
  },
  "language_info": {
   "codemirror_mode": {
    "name": "ipython",
    "version": 3
   },
   "file_extension": ".py",
   "mimetype": "text/x-python",
   "name": "python",
   "nbconvert_exporter": "python",
   "pygments_lexer": "ipython3",
   "version": "3.10.11"
  },
  "orig_nbformat": 4
 },
 "nbformat": 4,
 "nbformat_minor": 2
}
